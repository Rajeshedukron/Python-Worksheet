{
  "nbformat": 4,
  "nbformat_minor": 0,
  "metadata": {
    "colab": {
      "provenance": []
    },
    "kernelspec": {
      "name": "python3",
      "display_name": "Python 3"
    },
    "language_info": {
      "name": "python"
    }
  },
  "cells": [
    {
      "cell_type": "code",
      "execution_count": null,
      "metadata": {
        "colab": {
          "base_uri": "https://localhost:8080/"
        },
        "id": "HzhzalZNgVyg",
        "outputId": "9f819d1b-f810-423b-b0b9-49730847cd07"
      },
      "outputs": [
        {
          "output_type": "stream",
          "name": "stdout",
          "text": [
            "admin\n",
            "admin123\n",
            "Login successful\n"
          ]
        }
      ],
      "source": [
        "username = input()\n",
        "password = input()\n",
        "\n",
        "if username == \"admin\" and password == \"admin123\":\n",
        "    print(\"Login successful\")\n",
        "else:\n",
        "    print(\"Invalid credentials\")"
      ]
    },
    {
      "cell_type": "code",
      "source": [
        "x=1\n",
        "y=20\n",
        "if x>2:\n",
        "    x=x+200\n",
        "else:\n",
        "    y=200+x\n",
        "print(x,y)"
      ],
      "metadata": {
        "colab": {
          "base_uri": "https://localhost:8080/"
        },
        "id": "PehvR4MXgWh9",
        "outputId": "fb4bc7d3-45a6-47c4-f8ad-ac220981686a"
      },
      "execution_count": null,
      "outputs": [
        {
          "output_type": "stream",
          "name": "stdout",
          "text": [
            "1 201\n"
          ]
        }
      ]
    },
    {
      "cell_type": "code",
      "source": [
        "x=1\n",
        "y=20\n",
        "if x>5:\n",
        "    x=x+5\n",
        "    y=x-2\n",
        "    x=y+2\n",
        "else:\n",
        "    x=x+1\n",
        "    y=y+2\n",
        "print(x,y)"
      ],
      "metadata": {
        "colab": {
          "base_uri": "https://localhost:8080/"
        },
        "id": "QpeaW9jSgWr7",
        "outputId": "ce94c607-767e-463c-d9b2-1c454e713a0f"
      },
      "execution_count": null,
      "outputs": [
        {
          "output_type": "stream",
          "name": "stdout",
          "text": [
            "2 22\n"
          ]
        }
      ]
    },
    {
      "cell_type": "code",
      "source": [
        "x = 1\n",
        "y = 20\n",
        "if x > 5:\n",
        "    x = x + 5\n",
        "    y = x - 2\n",
        "    x = y + 2\n",
        "else:\n",
        "    x = x + 1\n",
        "    y = y + 2\n",
        "print( x, y)"
      ],
      "metadata": {
        "colab": {
          "base_uri": "https://localhost:8080/"
        },
        "id": "SicBZDsVgWv6",
        "outputId": "b2a58e23-e604-448c-cbc6-2b957e7ed9a0"
      },
      "execution_count": null,
      "outputs": [
        {
          "output_type": "stream",
          "name": "stdout",
          "text": [
            "2 22\n"
          ]
        }
      ]
    },
    {
      "cell_type": "code",
      "source": [
        "a = 10\n",
        "b = 5\n",
        "if a < b:\n",
        "    a += 2\n",
        "    b += 3\n",
        "else:\n",
        "    a -= 2\n",
        "    b *= 2\n",
        "print(\"Example 2:\", a, b)"
      ],
      "metadata": {
        "colab": {
          "base_uri": "https://localhost:8080/"
        },
        "id": "_ujwO-j3gWy7",
        "outputId": "5adc5004-bfc4-4f03-8796-139b9dfa7373"
      },
      "execution_count": null,
      "outputs": [
        {
          "output_type": "stream",
          "name": "stdout",
          "text": [
            "Example 2: 8 10\n"
          ]
        }
      ]
    },
    {
      "cell_type": "code",
      "source": [
        "x = 3\n",
        "y = 7\n",
        "if x * 2 > y:\n",
        "    x = x * 2\n",
        "    y = y - 1\n",
        "else:\n",
        "    y = y + 3\n",
        "    x = y - x\n",
        "print( x, y)"
      ],
      "metadata": {
        "colab": {
          "base_uri": "https://localhost:8080/"
        },
        "id": "kTs4SlDUgW16",
        "outputId": "50b6213c-1c9e-465c-f65d-7e5719e8d334"
      },
      "execution_count": null,
      "outputs": [
        {
          "output_type": "stream",
          "name": "stdout",
          "text": [
            "7 10\n"
          ]
        }
      ]
    },
    {
      "cell_type": "code",
      "source": [
        "p = 12\n",
        "q = 3\n",
        "if p / q == 4:\n",
        "    p = p + q\n",
        "else:\n",
        "    p = p - q\n",
        "print( p, q)"
      ],
      "metadata": {
        "colab": {
          "base_uri": "https://localhost:8080/"
        },
        "id": "NZS0dLlugW49",
        "outputId": "cea3116a-4872-4502-edb9-1dc3f85eb5b9"
      },
      "execution_count": null,
      "outputs": [
        {
          "output_type": "stream",
          "name": "stdout",
          "text": [
            "15 3\n"
          ]
        }
      ]
    },
    {
      "cell_type": "code",
      "source": [
        "x = 11\n",
        "y = 8\n",
        "if x % 2 == 0:\n",
        "    y = y + 1\n",
        "else:\n",
        "    x = x + 2\n",
        "    y = y - 2\n",
        "print( x, y)"
      ],
      "metadata": {
        "colab": {
          "base_uri": "https://localhost:8080/"
        },
        "id": "90KibsumoOd_",
        "outputId": "df5f8363-0d3b-4261-c4d2-364fe87f58fb"
      },
      "execution_count": null,
      "outputs": [
        {
          "output_type": "stream",
          "name": "stdout",
          "text": [
            "13 6\n"
          ]
        }
      ]
    },
    {
      "cell_type": "code",
      "source": [
        "a = 5\n",
        "b = 15\n",
        "if a > 2 and b < 20:\n",
        "    a = a * 2\n",
        "    b = b - 5\n",
        "else:\n",
        "    a = a + b\n",
        "print( a, b)"
      ],
      "metadata": {
        "colab": {
          "base_uri": "https://localhost:8080/"
        },
        "id": "xxPZ1smXo_qE",
        "outputId": "f2d0e526-a18b-4011-a350-067954d652cd"
      },
      "execution_count": null,
      "outputs": [
        {
          "output_type": "stream",
          "name": "stdout",
          "text": [
            "10 10\n"
          ]
        }
      ]
    },
    {
      "cell_type": "code",
      "source": [
        "x = 4\n",
        "y = 9\n",
        "if y > x:\n",
        "    x = x + y\n",
        "    y = y - x\n",
        "else:\n",
        "    x = x - y\n",
        "print(\"Example 7:\", x, y)"
      ],
      "metadata": {
        "colab": {
          "base_uri": "https://localhost:8080/"
        },
        "id": "DBEMfxyWpebr",
        "outputId": "45e3fad1-e50f-42ee-ab75-3bd0c3e6b75b"
      },
      "execution_count": null,
      "outputs": [
        {
          "output_type": "stream",
          "name": "stdout",
          "text": [
            "Example 7: 13 -4\n"
          ]
        }
      ]
    },
    {
      "cell_type": "code",
      "source": [
        "a = 8\n",
        "b = 12\n",
        "if a == b:\n",
        "    a = a * b\n",
        "else:\n",
        "    b = b - a\n",
        "print(\"Example 8:\", a, b)"
      ],
      "metadata": {
        "colab": {
          "base_uri": "https://localhost:8080/"
        },
        "id": "u-YRpF7Yp2a3",
        "outputId": "f9f6c134-6260-4fbd-cf9e-05a7297faf9d"
      },
      "execution_count": null,
      "outputs": [
        {
          "output_type": "stream",
          "name": "stdout",
          "text": [
            "Example 8: 8 4\n"
          ]
        }
      ]
    },
    {
      "cell_type": "code",
      "source": [
        "x = 6\n",
        "y = 6\n",
        "if x >= y:\n",
        "    x = x ** 2\n",
        "    y = y + 1\n",
        "else:\n",
        "    y = y ** 2\n",
        "print(\"Example 9:\", x, y)"
      ],
      "metadata": {
        "colab": {
          "base_uri": "https://localhost:8080/"
        },
        "id": "u_6JylwZqY_N",
        "outputId": "1eb78c3e-07d2-47d5-df11-f2ad650d7c2b"
      },
      "execution_count": null,
      "outputs": [
        {
          "output_type": "stream",
          "name": "stdout",
          "text": [
            "Example 9: 36 7\n"
          ]
        }
      ]
    },
    {
      "cell_type": "code",
      "source": [
        "a = 2\n",
        "b = 18\n",
        "if b % a == 0:\n",
        "    b = b // a\n",
        "else:\n",
        "    a = b % a\n",
        "print(\"Example 10:\", a, b)"
      ],
      "metadata": {
        "colab": {
          "base_uri": "https://localhost:8080/"
        },
        "id": "vQJmaknyqe7D",
        "outputId": "15ff496c-35ab-4556-aa0e-6f749a26e15c"
      },
      "execution_count": null,
      "outputs": [
        {
          "output_type": "stream",
          "name": "stdout",
          "text": [
            "Example 10: 2 9\n"
          ]
        }
      ]
    },
    {
      "cell_type": "code",
      "source": [
        "x=\"data7\"\n",
        "for z in x:\n",
        "    print(z.isalpha())"
      ],
      "metadata": {
        "id": "zkvzC2X0qe-l",
        "colab": {
          "base_uri": "https://localhost:8080/"
        },
        "outputId": "87c8521e-1f71-46fd-e57e-52637193c3fe"
      },
      "execution_count": 1,
      "outputs": [
        {
          "output_type": "stream",
          "name": "stdout",
          "text": [
            "True\n",
            "True\n",
            "True\n",
            "True\n",
            "False\n"
          ]
        }
      ]
    },
    {
      "cell_type": "code",
      "source": [
        "x=[1,2,3,\"data\",[4,5,6,\"Data\"]]"
      ],
      "metadata": {
        "id": "4VNO2NzcqfBj"
      },
      "execution_count": 2,
      "outputs": []
    },
    {
      "cell_type": "code",
      "source": [],
      "metadata": {
        "id": "rD_d5N9uqfEU"
      },
      "execution_count": 2,
      "outputs": []
    },
    {
      "cell_type": "code",
      "source": [
        "for i in x:\n",
        "    print(i)\n",
        "    print(len(str(i)))"
      ],
      "metadata": {
        "id": "gyz2l_L2qfHT",
        "colab": {
          "base_uri": "https://localhost:8080/"
        },
        "outputId": "3ba05b68-cedc-4bb4-a1c6-c17a57d5ef3c"
      },
      "execution_count": 3,
      "outputs": [
        {
          "output_type": "stream",
          "name": "stdout",
          "text": [
            "1\n",
            "1\n",
            "2\n",
            "1\n",
            "3\n",
            "1\n",
            "data\n",
            "4\n",
            "[4, 5, 6, 'Data']\n",
            "17\n"
          ]
        }
      ]
    },
    {
      "cell_type": "code",
      "source": [
        "x=\"Data science machine leanring\"\n",
        "for i in x.split():\n",
        "    print(len(i))"
      ],
      "metadata": {
        "id": "PkQVpxkuqfKD",
        "colab": {
          "base_uri": "https://localhost:8080/"
        },
        "outputId": "1c15ee66-32dd-4774-b0b2-4b33060fd2ab"
      },
      "execution_count": 4,
      "outputs": [
        {
          "output_type": "stream",
          "name": "stdout",
          "text": [
            "4\n",
            "7\n",
            "7\n",
            "8\n"
          ]
        }
      ]
    },
    {
      "cell_type": "code",
      "source": [
        "\"*\"*4"
      ],
      "metadata": {
        "id": "vYopeWiqqfMz",
        "colab": {
          "base_uri": "https://localhost:8080/",
          "height": 35
        },
        "outputId": "1977d1af-d70c-4b40-9ab6-411ea27df357"
      },
      "execution_count": 5,
      "outputs": [
        {
          "output_type": "execute_result",
          "data": {
            "text/plain": [
              "'****'"
            ],
            "application/vnd.google.colaboratory.intrinsic+json": {
              "type": "string"
            }
          },
          "metadata": {},
          "execution_count": 5
        }
      ]
    },
    {
      "cell_type": "code",
      "source": [
        "for i in [1,2,3,4,5]:\n",
        "    print(\"*\"*(6-i))"
      ],
      "metadata": {
        "id": "XVLUi8erqfPl",
        "colab": {
          "base_uri": "https://localhost:8080/"
        },
        "outputId": "264bea1a-0118-4eb1-ddc1-97752928ff47"
      },
      "execution_count": 6,
      "outputs": [
        {
          "output_type": "stream",
          "name": "stdout",
          "text": [
            "*****\n",
            "****\n",
            "***\n",
            "**\n",
            "*\n"
          ]
        }
      ]
    },
    {
      "cell_type": "code",
      "source": [
        "for i in [1,2,3,4,5]:\n",
        "    print(\"*\"*(i))\n",
        "for i in [1,2,3,4,5]:\n",
        "    print(\"*\"*(6-i))"
      ],
      "metadata": {
        "id": "k5krQGxmqfSl",
        "colab": {
          "base_uri": "https://localhost:8080/"
        },
        "outputId": "e1312b0b-1a42-488a-fda4-931af8a62ffa"
      },
      "execution_count": 7,
      "outputs": [
        {
          "output_type": "stream",
          "name": "stdout",
          "text": [
            "*\n",
            "**\n",
            "***\n",
            "****\n",
            "*****\n",
            "*****\n",
            "****\n",
            "***\n",
            "**\n",
            "*\n"
          ]
        }
      ]
    },
    {
      "cell_type": "code",
      "source": [],
      "metadata": {
        "id": "cDfKJWPK1uRm"
      },
      "execution_count": null,
      "outputs": []
    },
    {
      "cell_type": "code",
      "source": [
        "for i in range(1,6):\n",
        "    print(i,end=',')"
      ],
      "metadata": {
        "colab": {
          "base_uri": "https://localhost:8080/"
        },
        "id": "6JqxW8Fv1uVi",
        "outputId": "35280077-acf5-49ad-c703-df42549f8b1e"
      },
      "execution_count": 11,
      "outputs": [
        {
          "output_type": "stream",
          "name": "stdout",
          "text": [
            "1,2,3,4,5,"
          ]
        }
      ]
    },
    {
      "cell_type": "code",
      "source": [
        "for i in range(1,6,2):\n",
        "    print(i,end=',')"
      ],
      "metadata": {
        "colab": {
          "base_uri": "https://localhost:8080/"
        },
        "id": "F5-GS3GL1uYr",
        "outputId": "7205cee1-03fa-4860-8092-68a8f98cf314"
      },
      "execution_count": 9,
      "outputs": [
        {
          "output_type": "stream",
          "name": "stdout",
          "text": [
            "1,3,5,"
          ]
        }
      ]
    },
    {
      "cell_type": "code",
      "source": [
        "for i in range(1,50,2):\n",
        "    print(i,end=',')"
      ],
      "metadata": {
        "colab": {
          "base_uri": "https://localhost:8080/"
        },
        "id": "ooH0tnbe1uek",
        "outputId": "36b2b3cc-d3b5-4b53-bd4d-d1966864262b"
      },
      "execution_count": 12,
      "outputs": [
        {
          "output_type": "stream",
          "name": "stdout",
          "text": [
            "1,3,5,7,9,11,13,15,17,19,21,23,25,27,29,31,33,35,37,39,41,43,45,47,49,"
          ]
        }
      ]
    },
    {
      "cell_type": "code",
      "source": [
        "for i in range(1,6):\n",
        "    print((6-i)*\" \"+i*\"$\")"
      ],
      "metadata": {
        "colab": {
          "base_uri": "https://localhost:8080/"
        },
        "id": "4S-2YdHE1uin",
        "outputId": "6b1d5adf-6f0c-481e-ff6c-2fb565ea20f9"
      },
      "execution_count": 13,
      "outputs": [
        {
          "output_type": "stream",
          "name": "stdout",
          "text": [
            "     $\n",
            "    $$\n",
            "   $$$\n",
            "  $$$$\n",
            " $$$$$\n"
          ]
        }
      ]
    },
    {
      "cell_type": "code",
      "source": [
        "for i in range(1,10):\n",
        "  print((10-i)*\" \"+i*\"@\")"
      ],
      "metadata": {
        "colab": {
          "base_uri": "https://localhost:8080/"
        },
        "id": "rTv3VFZw3ryl",
        "outputId": "87ebc8b5-54c9-4d3a-abe6-bd772773772f"
      },
      "execution_count": 14,
      "outputs": [
        {
          "output_type": "stream",
          "name": "stdout",
          "text": [
            "         @\n",
            "        @@\n",
            "       @@@\n",
            "      @@@@\n",
            "     @@@@@\n",
            "    @@@@@@\n",
            "   @@@@@@@\n",
            "  @@@@@@@@\n",
            " @@@@@@@@@\n"
          ]
        }
      ]
    },
    {
      "cell_type": "code",
      "source": [],
      "metadata": {
        "id": "WzlWxpIw4PnB"
      },
      "execution_count": null,
      "outputs": []
    }
  ]
}