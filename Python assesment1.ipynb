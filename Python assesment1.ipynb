{
 "cells": [
  {
   "cell_type": "code",
   "execution_count": 74,
   "id": "3e833ade-a4f3-4f81-b25a-02b16d32de42",
   "metadata": {},
   "outputs": [],
   "source": [
    "retail_inventory = {\n",
    "    \"Electronics\": {\n",
    "        \"Laptop\": [55000, 30, \"Dell\"],\n",
    "        \"Mobile\": [25000, 50, \"Samsung\"],\n",
    "        \"Tablet\": [18000, 20, \"Lenovo\"],\n",
    "        \"Smart Watch\": [7999, 40, \"Noise\"]\n",
    "    },\n",
    "    \"Apparel\": {\n",
    "        \"T-Shirt\": [499, 100, \"H&M\"],\n",
    "        \"Jeans\": [1199, 60, \"Levi's\"],\n",
    "        \"Jacket\": [2499, 25, \"Puma\"]\n",
    "    },\n",
    "    \"Home Appliances\": {\n",
    "        \"Microwave\": [8500, 15, \"LG\"],\n",
    "        \"Vacuum Cleaner\": [7000, 10, \"Philips\"],\n",
    "        \"Refrigerator\": [30000, 8, \"Samsung\"]\n",
    "    }\n",
    "}"
   ]
  },
  {
   "cell_type": "code",
   "execution_count": 103,
   "id": "eee96259-b5de-4172-b257-5c824dbbe044",
   "metadata": {},
   "outputs": [],
   "source": [
    "retail_inventory = {\n",
    "    \"Electronics\": {\n",
    "        \"Laptop\": [55000, 30, \"Dell\"],\n",
    "        \"Mobile\": [25000, 50, \"Samsung\"],\n",
    "        \"Tablet\": [18000, 20, \"Lenovo\"],\n",
    "        \"Smart Watch\": [7999, 40, \"Noise\"]\n",
    "    },\n",
    "    \"Apparel\": {\n",
    "        \"T-Shirt\": [499, 100, \"H&M\"],\n",
    "        \"Jeans\": [1199, 60, \"Levi's\"],\n",
    "        \"Jacket\": [2499, 25, \"Puma\"]\n",
    "    },\n",
    "    \"Home Appliances\": {\n",
    "        \"Microwave\": [8500, 15, \"LG\"],\n",
    "        \"Vacuum Cleaner\": [7000, 10, \"Philips\"],\n",
    "        \"Refrigerator\": [30000, 8, \"Samsung\"]\n",
    "    }\n",
    "}"
   ]
  },
  {
   "cell_type": "code",
   "execution_count": 104,
   "id": "60e9ded5-1854-4c66-9da0-c9f36dc21807",
   "metadata": {},
   "outputs": [
    {
     "data": {
      "text/plain": [
       "{'Electronics': {'Laptop': [55000, 30, 'Dell'],\n",
       "  'Mobile': [25000, 50, 'Samsung'],\n",
       "  'Tablet': [18000, 20, 'Lenovo'],\n",
       "  'Smart Watch': [7999, 40, 'Noise']},\n",
       " 'Apparel': {'T-Shirt': [499, 100, 'H&M'],\n",
       "  'Jeans': [1199, 60, \"Levi's\"],\n",
       "  'Jacket': [2499, 25, 'Puma']},\n",
       " 'Home Appliances': {'Microwave': [8500, 15, 'LG'],\n",
       "  'Vacuum Cleaner': [7000, 10, 'Philips'],\n",
       "  'Refrigerator': [30000, 8, 'Samsung']}}"
      ]
     },
     "execution_count": 104,
     "metadata": {},
     "output_type": "execute_result"
    }
   ],
   "source": [
    "retail_inventory"
   ]
  },
  {
   "cell_type": "code",
   "execution_count": 105,
   "id": "e6703193-8eb5-472c-961d-36ddb17d7222",
   "metadata": {},
   "outputs": [],
   "source": [
    "del retail_inventory['Electronics']"
   ]
  },
  {
   "cell_type": "code",
   "execution_count": 106,
   "id": "154b2bf9-5ba2-487a-a5e4-2111a1f7cd8f",
   "metadata": {},
   "outputs": [
    {
     "data": {
      "text/plain": [
       "{'Apparel': {'T-Shirt': [499, 100, 'H&M'],\n",
       "  'Jeans': [1199, 60, \"Levi's\"],\n",
       "  'Jacket': [2499, 25, 'Puma']},\n",
       " 'Home Appliances': {'Microwave': [8500, 15, 'LG'],\n",
       "  'Vacuum Cleaner': [7000, 10, 'Philips'],\n",
       "  'Refrigerator': [30000, 8, 'Samsung']}}"
      ]
     },
     "execution_count": 106,
     "metadata": {},
     "output_type": "execute_result"
    }
   ],
   "source": [
    "retail_inventory"
   ]
  },
  {
   "cell_type": "code",
   "execution_count": null,
   "id": "034fd5b2-e48c-41ce-bdea-d4bfd9b0249e",
   "metadata": {},
   "outputs": [],
   "source": [
    "Get the number of keys in a dictionary. (Use len())"
   ]
  },
  {
   "cell_type": "code",
   "execution_count": 107,
   "id": "f48d2903-d2e4-4a43-a94c-2c68cf530c8b",
   "metadata": {},
   "outputs": [
    {
     "ename": "AttributeError",
     "evalue": "'dict' object has no attribute 'len'",
     "output_type": "error",
     "traceback": [
      "\u001b[31m---------------------------------------------------------------------------\u001b[39m",
      "\u001b[31mAttributeError\u001b[39m                            Traceback (most recent call last)",
      "\u001b[36mCell\u001b[39m\u001b[36m \u001b[39m\u001b[32mIn[107]\u001b[39m\u001b[32m, line 1\u001b[39m\n\u001b[32m----> \u001b[39m\u001b[32m1\u001b[39m \u001b[43mretail_inventory\u001b[49m\u001b[43m.\u001b[49m\u001b[43mlen\u001b[49m()\n",
      "\u001b[31mAttributeError\u001b[39m: 'dict' object has no attribute 'len'"
     ]
    }
   ],
   "source": [
    "retail_inventory.len(')"
   ]
  },
  {
   "cell_type": "code",
   "execution_count": null,
   "id": "04762099-6423-4055-81cf-cef150654233",
   "metadata": {},
   "outputs": [],
   "source": []
  },
  {
   "cell_type": "code",
   "execution_count": 73,
   "id": "487c865f-3ced-40b4-a7c1-3c4f1d7349d9",
   "metadata": {},
   "outputs": [
    {
     "name": "stdout",
     "output_type": "stream",
     "text": [
      "Object `dictionary` not found.\n"
     ]
    }
   ],
   "source": [
    "How do you get all the keys from a dictionary?"
   ]
  },
  {
   "cell_type": "code",
   "execution_count": 4,
   "id": "5aa54591-0c2f-41e7-9a5e-8cd6b59b4396",
   "metadata": {},
   "outputs": [
    {
     "ename": "NameError",
     "evalue": "name 'retail_inventory' is not defined",
     "output_type": "error",
     "traceback": [
      "\u001b[31m---------------------------------------------------------------------------\u001b[39m",
      "\u001b[31mNameError\u001b[39m                                 Traceback (most recent call last)",
      "\u001b[36mCell\u001b[39m\u001b[36m \u001b[39m\u001b[32mIn[4]\u001b[39m\u001b[32m, line 1\u001b[39m\n\u001b[32m----> \u001b[39m\u001b[32m1\u001b[39m \u001b[43mretail_inventory\u001b[49m.keys()\n",
      "\u001b[31mNameError\u001b[39m: name 'retail_inventory' is not defined"
     ]
    }
   ],
   "source": [
    "retail_inventory.keys()"
   ]
  },
  {
   "cell_type": "code",
   "execution_count": 7,
   "id": "a43a3868-f8ac-480e-9d89-bed478458ced",
   "metadata": {},
   "outputs": [
    {
     "data": {
      "text/plain": [
       "dict_keys(['Electronics', 'Apparel', 'Home Appliances'])"
      ]
     },
     "execution_count": 7,
     "metadata": {},
     "output_type": "execute_result"
    }
   ],
   "source": [
    "retail_inventory.keys()"
   ]
  },
  {
   "cell_type": "code",
   "execution_count": null,
   "id": "5345f845-ca46-403c-940d-05456e55b707",
   "metadata": {},
   "outputs": [],
   "source": [
    "How do you get all the values from a dictionary? (Use .values())"
   ]
  },
  {
   "cell_type": "code",
   "execution_count": 9,
   "id": "804a31a5-f1cd-4c4f-8e2f-3be799ed7018",
   "metadata": {},
   "outputs": [
    {
     "data": {
      "text/plain": [
       "dict_values([{'Laptop': [55000, 30, 'Dell'], 'Mobile': [25000, 50, 'Samsung'], 'Tablet': [18000, 20, 'Lenovo'], 'Smart Watch': [7999, 40, 'Noise']}, {'T-Shirt': [499, 100, 'H&M'], 'Jeans': [1199, 60, \"Levi's\"], 'Jacket': [2499, 25, 'Puma']}, {'Microwave': [8500, 15, 'LG'], 'Vacuum Cleaner': [7000, 10, 'Philips'], 'Refrigerator': [30000, 8, 'Samsung']}])"
      ]
     },
     "execution_count": 9,
     "metadata": {},
     "output_type": "execute_result"
    }
   ],
   "source": [
    "(retail_inventory.values())"
   ]
  },
  {
   "cell_type": "code",
   "execution_count": null,
   "id": "7259fe75-a3c1-4657-9a15-d2a5ab7a9d78",
   "metadata": {},
   "outputs": [],
   "source": [
    "How do you retrieve the value for a specific key safely? (Use .get(key))"
   ]
  },
  {
   "cell_type": "code",
   "execution_count": 10,
   "id": "5a045553-aa35-475c-b74d-b4eeb6332e8a",
   "metadata": {},
   "outputs": [
    {
     "data": {
      "text/plain": [
       "{'Laptop': [55000, 30, 'Dell'],\n",
       " 'Mobile': [25000, 50, 'Samsung'],\n",
       " 'Tablet': [18000, 20, 'Lenovo'],\n",
       " 'Smart Watch': [7999, 40, 'Noise']}"
      ]
     },
     "execution_count": 10,
     "metadata": {},
     "output_type": "execute_result"
    }
   ],
   "source": [
    "(retail_inventory.get(\"Electronics\"))"
   ]
  },
  {
   "cell_type": "code",
   "execution_count": null,
   "id": "5b796752-bdbc-40a4-9fb5-cf2d2b3747da",
   "metadata": {},
   "outputs": [],
   "source": [
    "How do you check if a key exists in a dictionary? (Use in)"
   ]
  },
  {
   "cell_type": "code",
   "execution_count": 29,
   "id": "b0969b66-47f9-4c27-9762-eb27340766ff",
   "metadata": {},
   "outputs": [
    {
     "name": "stdout",
     "output_type": "stream",
     "text": [
      "yes\n"
     ]
    }
   ],
   "source": [
    "if\"Electronics\"in retail_inventory:\n",
    "    print('yes') \n",
    "\n",
    "    "
   ]
  },
  {
   "cell_type": "code",
   "execution_count": null,
   "id": "8c75d4d8-3bff-4b6b-afbd-4af99e1f161c",
   "metadata": {},
   "outputs": [],
   "source": [
    "How do you remove a key and return its value? (Use .pop(key))"
   ]
  },
  {
   "cell_type": "code",
   "execution_count": 34,
   "id": "a0d46209-f91d-4394-bea1-1f12684518a6",
   "metadata": {},
   "outputs": [
    {
     "ename": "TypeError",
     "evalue": "unhashable type: 'list'",
     "output_type": "error",
     "traceback": [
      "\u001b[31m---------------------------------------------------------------------------\u001b[39m",
      "\u001b[31mTypeError\u001b[39m                                 Traceback (most recent call last)",
      "\u001b[36mCell\u001b[39m\u001b[36m \u001b[39m\u001b[32mIn[34]\u001b[39m\u001b[32m, line 1\u001b[39m\n\u001b[32m----> \u001b[39m\u001b[32m1\u001b[39m \u001b[43mretail_inventory\u001b[49m\u001b[43m.\u001b[49m\u001b[43mpop\u001b[49m\u001b[43m(\u001b[49m\u001b[43m[\u001b[49m\u001b[33;43m'\u001b[39;49m\u001b[33;43mElectronics\u001b[39;49m\u001b[33;43m'\u001b[39;49m\u001b[43m]\u001b[49m\u001b[43m)\u001b[49m\n",
      "\u001b[31mTypeError\u001b[39m: unhashable type: 'list'"
     ]
    }
   ],
   "source": [
    "retail_inventory.pop(['Electronics'])"
   ]
  },
  {
   "cell_type": "code",
   "execution_count": 36,
   "id": "0809ef49-4e93-4433-bd0d-4bea663699ae",
   "metadata": {},
   "outputs": [
    {
     "ename": "KeyError",
     "evalue": "'Electronics'",
     "output_type": "error",
     "traceback": [
      "\u001b[31m---------------------------------------------------------------------------\u001b[39m",
      "\u001b[31mKeyError\u001b[39m                                  Traceback (most recent call last)",
      "\u001b[36mCell\u001b[39m\u001b[36m \u001b[39m\u001b[32mIn[36]\u001b[39m\u001b[32m, line 1\u001b[39m\n\u001b[32m----> \u001b[39m\u001b[32m1\u001b[39m (\u001b[43mretail_inventory\u001b[49m\u001b[43m.\u001b[49m\u001b[43mpop\u001b[49m\u001b[43m(\u001b[49m\u001b[33;43m'\u001b[39;49m\u001b[33;43mElectronics\u001b[39;49m\u001b[33;43m'\u001b[39;49m\u001b[43m)\u001b[49m)\n",
      "\u001b[31mKeyError\u001b[39m: 'Electronics'"
     ]
    }
   ],
   "source": [
    "(retail_inventory.pop('Electronics'))"
   ]
  },
  {
   "cell_type": "code",
   "execution_count": 37,
   "id": "888148ee-f822-4b99-8726-ebafcf34e22c",
   "metadata": {},
   "outputs": [
    {
     "data": {
      "text/plain": [
       "{'Apparel': {'T-Shirt': [499, 100, 'H&M'],\n",
       "  'Jeans': [1199, 60, \"Levi's\"],\n",
       "  'Jacket': [2499, 25, 'Puma']},\n",
       " 'Home Appliances': {'Microwave': [8500, 15, 'LG'],\n",
       "  'Vacuum Cleaner': [7000, 10, 'Philips'],\n",
       "  'Refrigerator': [30000, 8, 'Samsung']}}"
      ]
     },
     "execution_count": 37,
     "metadata": {},
     "output_type": "execute_result"
    }
   ],
   "source": [
    "retail_inventory"
   ]
  },
  {
   "cell_type": "code",
   "execution_count": null,
   "id": "0b1f1df8-1132-43cf-b04a-6dd9739465f5",
   "metadata": {},
   "outputs": [],
   "source": [
    "How do you copy a dictionary? (Use .copy())"
   ]
  },
  {
   "cell_type": "code",
   "execution_count": 38,
   "id": "86f85cef-7375-41ee-8928-7bc0d116576d",
   "metadata": {},
   "outputs": [
    {
     "data": {
      "text/plain": [
       "{'Apparel': {'T-Shirt': [499, 100, 'H&M'],\n",
       "  'Jeans': [1199, 60, \"Levi's\"],\n",
       "  'Jacket': [2499, 25, 'Puma']},\n",
       " 'Home Appliances': {'Microwave': [8500, 15, 'LG'],\n",
       "  'Vacuum Cleaner': [7000, 10, 'Philips'],\n",
       "  'Refrigerator': [30000, 8, 'Samsung']}}"
      ]
     },
     "execution_count": 38,
     "metadata": {},
     "output_type": "execute_result"
    }
   ],
   "source": [
    "(retail_inventory.copy())"
   ]
  },
  {
   "cell_type": "code",
   "execution_count": 39,
   "id": "09be50d7-a9be-4000-ab46-c5b9000f08f6",
   "metadata": {},
   "outputs": [
    {
     "data": {
      "text/plain": [
       "{'Apparel': {'T-Shirt': [499, 100, 'H&M'],\n",
       "  'Jeans': [1199, 60, \"Levi's\"],\n",
       "  'Jacket': [2499, 25, 'Puma']},\n",
       " 'Home Appliances': {'Microwave': [8500, 15, 'LG'],\n",
       "  'Vacuum Cleaner': [7000, 10, 'Philips'],\n",
       "  'Refrigerator': [30000, 8, 'Samsung']}}"
      ]
     },
     "execution_count": 39,
     "metadata": {},
     "output_type": "execute_result"
    }
   ],
   "source": [
    "retail_inventory"
   ]
  },
  {
   "cell_type": "code",
   "execution_count": 45,
   "id": "740b561e-21c3-4468-bc4d-6e37336ea0fe",
   "metadata": {},
   "outputs": [
    {
     "data": {
      "text/plain": [
       "{'Apparel': {'T-Shirt': [499, 100, 'H&M'],\n",
       "  'Jeans': [1199, 60, \"Levi's\"],\n",
       "  'Jacket': [2499, 25, 'Puma']},\n",
       " 'Home Appliances': {'Microwave': [8500, 15, 'LG'],\n",
       "  'Vacuum Cleaner': [7000, 10, 'Philips'],\n",
       "  'Refrigerator': [30000, 8, 'Samsung']}}"
      ]
     },
     "execution_count": 45,
     "metadata": {},
     "output_type": "execute_result"
    }
   ],
   "source": [
    "retail_inventory.copy()"
   ]
  },
  {
   "cell_type": "code",
   "execution_count": 46,
   "id": "3dabfebc-01e6-4ed9-958e-30ac5664e445",
   "metadata": {},
   "outputs": [],
   "source": [
    "retail_inventory = {\n",
    "    \"Electronics\": {\n",
    "        \"Laptop\": [55000, 30, \"Dell\"],\n",
    "        \"Mobile\": [25000, 50, \"Samsung\"],\n",
    "        \"Tablet\": [18000, 20, \"Lenovo\"],\n",
    "        \"Smart Watch\": [7999, 40, \"Noise\"]\n",
    "    },\n",
    "    \"Apparel\": {\n",
    "        \"T-Shirt\": [499, 100, \"H&M\"],\n",
    "        \"Jeans\": [1199, 60, \"Levi's\"],\n",
    "        \"Jacket\": [2499, 25, \"Puma\"]\n",
    "    },\n",
    "    \"Home Appliances\": {\n",
    "        \"Microwave\": [8500, 15, \"LG\"],\n",
    "        \"Vacuum Cleaner\": [7000, 10, \"Philips\"],\n",
    "        \"Refrigerator\": [30000, 8, \"Samsung\"]\n",
    "    }\n",
    "}"
   ]
  },
  {
   "cell_type": "code",
   "execution_count": 47,
   "id": "6f2852b2-c400-488f-9a02-5060773e80b4",
   "metadata": {},
   "outputs": [
    {
     "data": {
      "text/plain": [
       "{'Electronics': {'Laptop': [55000, 30, 'Dell'],\n",
       "  'Mobile': [25000, 50, 'Samsung'],\n",
       "  'Tablet': [18000, 20, 'Lenovo'],\n",
       "  'Smart Watch': [7999, 40, 'Noise']},\n",
       " 'Apparel': {'T-Shirt': [499, 100, 'H&M'],\n",
       "  'Jeans': [1199, 60, \"Levi's\"],\n",
       "  'Jacket': [2499, 25, 'Puma']},\n",
       " 'Home Appliances': {'Microwave': [8500, 15, 'LG'],\n",
       "  'Vacuum Cleaner': [7000, 10, 'Philips'],\n",
       "  'Refrigerator': [30000, 8, 'Samsung']}}"
      ]
     },
     "execution_count": 47,
     "metadata": {},
     "output_type": "execute_result"
    }
   ],
   "source": [
    "retail_inventory"
   ]
  },
  {
   "cell_type": "code",
   "execution_count": null,
   "id": "1e9f78a6-c443-4469-9eb3-750df2806ab4",
   "metadata": {},
   "outputs": [],
   "source": [
    "How do you copy a dictionary? (Use .copy())"
   ]
  },
  {
   "cell_type": "code",
   "execution_count": 48,
   "id": "3cf9a6f2-bd18-42bd-b3af-4e498a514e78",
   "metadata": {},
   "outputs": [
    {
     "data": {
      "text/plain": [
       "{'Electronics': {'Laptop': [55000, 30, 'Dell'],\n",
       "  'Mobile': [25000, 50, 'Samsung'],\n",
       "  'Tablet': [18000, 20, 'Lenovo'],\n",
       "  'Smart Watch': [7999, 40, 'Noise']},\n",
       " 'Apparel': {'T-Shirt': [499, 100, 'H&M'],\n",
       "  'Jeans': [1199, 60, \"Levi's\"],\n",
       "  'Jacket': [2499, 25, 'Puma']},\n",
       " 'Home Appliances': {'Microwave': [8500, 15, 'LG'],\n",
       "  'Vacuum Cleaner': [7000, 10, 'Philips'],\n",
       "  'Refrigerator': [30000, 8, 'Samsung']}}"
      ]
     },
     "execution_count": 48,
     "metadata": {},
     "output_type": "execute_result"
    }
   ],
   "source": [
    "(retail_inventory.copy())"
   ]
  },
  {
   "cell_type": "code",
   "execution_count": null,
   "id": "e1b565df-ade9-4781-a129-7c6f4a8646a9",
   "metadata": {},
   "outputs": [],
   "source": [
    "How do you remove all key-value pairs from a dictionary? (Use .clear())"
   ]
  },
  {
   "cell_type": "code",
   "execution_count": 50,
   "id": "5bf82722-2f63-4811-a250-03c3f095509a",
   "metadata": {},
   "outputs": [],
   "source": [
    "(retail_inventory.clear())"
   ]
  },
  {
   "cell_type": "code",
   "execution_count": 52,
   "id": "a536091a-db15-4967-8824-a996c26ce803",
   "metadata": {},
   "outputs": [
    {
     "data": {
      "text/plain": [
       "{}"
      ]
     },
     "execution_count": 52,
     "metadata": {},
     "output_type": "execute_result"
    }
   ],
   "source": [
    "retail_inventory"
   ]
  },
  {
   "cell_type": "code",
   "execution_count": 53,
   "id": "9f89f8f5-f173-44a0-9f26-a277eb8920d1",
   "metadata": {},
   "outputs": [],
   "source": [
    "retail_inventory = {\n",
    "    \"Electronics\": {\n",
    "        \"Laptop\": [55000, 30, \"Dell\"],\n",
    "        \"Mobile\": [25000, 50, \"Samsung\"],\n",
    "        \"Tablet\": [18000, 20, \"Lenovo\"],\n",
    "        \"Smart Watch\": [7999, 40, \"Noise\"]\n",
    "    },\n",
    "    \"Apparel\": {\n",
    "        \"T-Shirt\": [499, 100, \"H&M\"],\n",
    "        \"Jeans\": [1199, 60, \"Levi's\"],\n",
    "        \"Jacket\": [2499, 25, \"Puma\"]\n",
    "    },\n",
    "    \"Home Appliances\": {\n",
    "        \"Microwave\": [8500, 15, \"LG\"],\n",
    "        \"Vacuum Cleaner\": [7000, 10, \"Philips\"],\n",
    "        \"Refrigerator\": [30000, 8, \"Samsung\"]\n",
    "    }\n",
    "}"
   ]
  },
  {
   "cell_type": "code",
   "execution_count": 54,
   "id": "3941f223-c476-412e-9cf0-32f31d29ccbf",
   "metadata": {},
   "outputs": [
    {
     "data": {
      "text/plain": [
       "{'Electronics': {'Laptop': [55000, 30, 'Dell'],\n",
       "  'Mobile': [25000, 50, 'Samsung'],\n",
       "  'Tablet': [18000, 20, 'Lenovo'],\n",
       "  'Smart Watch': [7999, 40, 'Noise']},\n",
       " 'Apparel': {'T-Shirt': [499, 100, 'H&M'],\n",
       "  'Jeans': [1199, 60, \"Levi's\"],\n",
       "  'Jacket': [2499, 25, 'Puma']},\n",
       " 'Home Appliances': {'Microwave': [8500, 15, 'LG'],\n",
       "  'Vacuum Cleaner': [7000, 10, 'Philips'],\n",
       "  'Refrigerator': [30000, 8, 'Samsung']}}"
      ]
     },
     "execution_count": 54,
     "metadata": {},
     "output_type": "execute_result"
    }
   ],
   "source": [
    "retail_inventory"
   ]
  },
  {
   "cell_type": "code",
   "execution_count": null,
   "id": "dffefe3a-3d97-4d89-8a09-55e5b28034ab",
   "metadata": {},
   "outputs": [],
   "source": [
    "How do you add or update a value for a key? (Use .update({key: value}))\n",
    "                            "
   ]
  },
  {
   "cell_type": "code",
   "execution_count": 56,
   "id": "82f3f9d4-0aab-4bc1-9d7f-b929dedcf509",
   "metadata": {},
   "outputs": [],
   "source": [
    "(retail_inventory.update({'Tv':['sam',1200,50]}))"
   ]
  },
  {
   "cell_type": "code",
   "execution_count": 57,
   "id": "85360f68-aaf2-469c-985f-179967389855",
   "metadata": {},
   "outputs": [
    {
     "data": {
      "text/plain": [
       "{'Electronics': {'Laptop': [55000, 30, 'Dell'],\n",
       "  'Mobile': [25000, 50, 'Samsung'],\n",
       "  'Tablet': [18000, 20, 'Lenovo'],\n",
       "  'Smart Watch': [7999, 40, 'Noise']},\n",
       " 'Apparel': {'T-Shirt': [499, 100, 'H&M'],\n",
       "  'Jeans': [1199, 60, \"Levi's\"],\n",
       "  'Jacket': [2499, 25, 'Puma']},\n",
       " 'Home Appliances': {'Microwave': [8500, 15, 'LG'],\n",
       "  'Vacuum Cleaner': [7000, 10, 'Philips'],\n",
       "  'Refrigerator': [30000, 8, 'Samsung']},\n",
       " 'Tv': ['sam', 1200, 50]}"
      ]
     },
     "execution_count": 57,
     "metadata": {},
     "output_type": "execute_result"
    }
   ],
   "source": [
    "retail_inventory"
   ]
  },
  {
   "cell_type": "code",
   "execution_count": null,
   "id": "5eeb7587-720e-483d-b301-e189dad102fe",
   "metadata": {},
   "outputs": [],
   "source": [
    "How do you retrieve both keys and values? (Use .items())"
   ]
  },
  {
   "cell_type": "code",
   "execution_count": 59,
   "id": "698539ee-3292-47dc-9e8d-f5418f1dd9fb",
   "metadata": {},
   "outputs": [
    {
     "data": {
      "text/plain": [
       "dict_items([('Electronics', {'Laptop': [55000, 30, 'Dell'], 'Mobile': [25000, 50, 'Samsung'], 'Tablet': [18000, 20, 'Lenovo'], 'Smart Watch': [7999, 40, 'Noise']}), ('Apparel', {'T-Shirt': [499, 100, 'H&M'], 'Jeans': [1199, 60, \"Levi's\"], 'Jacket': [2499, 25, 'Puma']}), ('Home Appliances', {'Microwave': [8500, 15, 'LG'], 'Vacuum Cleaner': [7000, 10, 'Philips'], 'Refrigerator': [30000, 8, 'Samsung']}), ('Tv', ['sam', 1200, 50])])"
      ]
     },
     "execution_count": 59,
     "metadata": {},
     "output_type": "execute_result"
    }
   ],
   "source": [
    "(retail_inventory.items())"
   ]
  },
  {
   "cell_type": "code",
   "execution_count": null,
   "id": "0da2e36c-8530-4adf-be0f-747bf6ad6124",
   "metadata": {},
   "outputs": [],
   "source": [
    "How do you create an empty dictionary? (Use {} or dict())\n"
   ]
  },
  {
   "cell_type": "code",
   "execution_count": 61,
   "id": "4c87c0d7-a237-42b4-876b-3a471a5f4d8e",
   "metadata": {},
   "outputs": [],
   "source": [
    "retail_inventory.clear()"
   ]
  },
  {
   "cell_type": "code",
   "execution_count": 62,
   "id": "8960e9e4-0bfd-4357-ab76-0106fb7d1f0d",
   "metadata": {},
   "outputs": [
    {
     "data": {
      "text/plain": [
       "{}"
      ]
     },
     "execution_count": 62,
     "metadata": {},
     "output_type": "execute_result"
    }
   ],
   "source": [
    "retail_inventory"
   ]
  },
  {
   "cell_type": "code",
   "execution_count": 63,
   "id": "295a1406-56cc-479d-a02b-10b20a4a85d7",
   "metadata": {},
   "outputs": [],
   "source": [
    "retail_inventory = {\n",
    "    \"Electronics\": {\n",
    "        \"Laptop\": [55000, 30, \"Dell\"],\n",
    "        \"Mobile\": [25000, 50, \"Samsung\"],\n",
    "        \"Tablet\": [18000, 20, \"Lenovo\"],\n",
    "        \"Smart Watch\": [7999, 40, \"Noise\"]\n",
    "    },\n",
    "    \"Apparel\": {\n",
    "        \"T-Shirt\": [499, 100, \"H&M\"],\n",
    "        \"Jeans\": [1199, 60, \"Levi's\"],\n",
    "        \"Jacket\": [2499, 25, \"Puma\"]\n",
    "    },\n",
    "    \"Home Appliances\": {\n",
    "        \"Microwave\": [8500, 15, \"LG\"],\n",
    "        \"Vacuum Cleaner\": [7000, 10, \"Philips\"],\n",
    "        \"Refrigerator\": [30000, 8, \"Samsung\"]\n",
    "    }\n",
    "}"
   ]
  },
  {
   "cell_type": "code",
   "execution_count": 65,
   "id": "5939fec2-4a60-4c2f-bcbe-259f6310cf71",
   "metadata": {},
   "outputs": [
    {
     "data": {
      "text/plain": [
       "{'Electronics': {'Laptop': [55000, 30, 'Dell'],\n",
       "  'Mobile': [25000, 50, 'Samsung'],\n",
       "  'Tablet': [18000, 20, 'Lenovo'],\n",
       "  'Smart Watch': [7999, 40, 'Noise']},\n",
       " 'Apparel': {'T-Shirt': [499, 100, 'H&M'],\n",
       "  'Jeans': [1199, 60, \"Levi's\"],\n",
       "  'Jacket': [2499, 25, 'Puma']},\n",
       " 'Home Appliances': {'Microwave': [8500, 15, 'LG'],\n",
       "  'Vacuum Cleaner': [7000, 10, 'Philips'],\n",
       "  'Refrigerator': [30000, 8, 'Samsung']}}"
      ]
     },
     "execution_count": 65,
     "metadata": {},
     "output_type": "execute_result"
    }
   ],
   "source": [
    "retail_inventory"
   ]
  },
  {
   "cell_type": "code",
   "execution_count": 66,
   "id": "1b9b3e10-579e-46e2-9f59-2cb911af49c9",
   "metadata": {},
   "outputs": [],
   "source": [
    "x='data engineering'"
   ]
  },
  {
   "cell_type": "code",
   "execution_count": 67,
   "id": "bfba4de8-f162-48ef-b145-c6cd1372ea15",
   "metadata": {},
   "outputs": [
    {
     "data": {
      "text/plain": [
       "'data engineering'"
      ]
     },
     "execution_count": 67,
     "metadata": {},
     "output_type": "execute_result"
    }
   ],
   "source": [
    "x"
   ]
  },
  {
   "cell_type": "code",
   "execution_count": null,
   "id": "feed5deb-cf38-478b-ad2b-87c042b8cae9",
   "metadata": {},
   "outputs": [],
   "source": [
    "Use .setdefault() to assign a default value to a missing key."
   ]
  },
  {
   "cell_type": "code",
   "execution_count": 69,
   "id": "9a5a7a82-cd1a-4995-9207-bdf28e41f07e",
   "metadata": {},
   "outputs": [
    {
     "data": {
      "text/plain": [
       "'10'"
      ]
     },
     "execution_count": 69,
     "metadata": {},
     "output_type": "execute_result"
    }
   ],
   "source": [
    "retail_inventory.setdefault('Refrigerator','10')"
   ]
  },
  {
   "cell_type": "code",
   "execution_count": 78,
   "id": "32a26c14-bfbf-44ba-b787-b347982423f7",
   "metadata": {},
   "outputs": [],
   "source": [
    "y={'Edukron':'Data Science',\n",
    "     'skillanic':'RestApi',\n",
    "     'besant':'PowerBi'}"
   ]
  },
  {
   "cell_type": "code",
   "execution_count": 79,
   "id": "01ff2347-5148-4313-a24b-081a21436e11",
   "metadata": {},
   "outputs": [
    {
     "ename": "NameError",
     "evalue": "name 'Y' is not defined",
     "output_type": "error",
     "traceback": [
      "\u001b[31m---------------------------------------------------------------------------\u001b[39m",
      "\u001b[31mNameError\u001b[39m                                 Traceback (most recent call last)",
      "\u001b[36mCell\u001b[39m\u001b[36m \u001b[39m\u001b[32mIn[79]\u001b[39m\u001b[32m, line 1\u001b[39m\n\u001b[32m----> \u001b[39m\u001b[32m1\u001b[39m \u001b[43mY\u001b[49m\n",
      "\u001b[31mNameError\u001b[39m: name 'Y' is not defined"
     ]
    }
   ],
   "source": [
    "Y"
   ]
  },
  {
   "cell_type": "code",
   "execution_count": 80,
   "id": "180886a0-bcd9-447d-ac8a-6c9f98779f55",
   "metadata": {},
   "outputs": [
    {
     "data": {
      "text/plain": [
       "{'Edukron': 'Data Science', 'skillanic': 'RestApi', 'besant': 'PowerBi'}"
      ]
     },
     "execution_count": 80,
     "metadata": {},
     "output_type": "execute_result"
    }
   ],
   "source": [
    "y"
   ]
  },
  {
   "cell_type": "code",
   "execution_count": 81,
   "id": "fdf86a40-72f6-453e-b331-e2149d3365df",
   "metadata": {},
   "outputs": [],
   "source": [
    "retail_inventory.update(y)"
   ]
  },
  {
   "cell_type": "code",
   "execution_count": 82,
   "id": "055af7ef-ce30-4bd5-8b51-736980d0682b",
   "metadata": {},
   "outputs": [
    {
     "data": {
      "text/plain": [
       "{'Edukron': 'Data Science', 'skillanic': 'RestApi', 'besant': 'PowerBi'}"
      ]
     },
     "execution_count": 82,
     "metadata": {},
     "output_type": "execute_result"
    }
   ],
   "source": [
    "y"
   ]
  },
  {
   "cell_type": "code",
   "execution_count": 83,
   "id": "bc180b36-5c6d-49c4-8d31-3033b815d449",
   "metadata": {},
   "outputs": [
    {
     "data": {
      "text/plain": [
       "{'Electronics': {'Laptop': [55000, 30, 'Dell'],\n",
       "  'Mobile': [25000, 50, 'Samsung'],\n",
       "  'Tablet': [18000, 20, 'Lenovo'],\n",
       "  'Smart Watch': [7999, 40, 'Noise']},\n",
       " 'Apparel': {'T-Shirt': [499, 100, 'H&M'],\n",
       "  'Jeans': [1199, 60, \"Levi's\"],\n",
       "  'Jacket': [2499, 25, 'Puma']},\n",
       " 'Home Appliances': {'Microwave': [8500, 15, 'LG'],\n",
       "  'Vacuum Cleaner': [7000, 10, 'Philips'],\n",
       "  'Refrigerator': [30000, 8, 'Samsung']},\n",
       " 'Edukron': 'Data Science',\n",
       " 'skillanic': 'RestApi',\n",
       " 'besant': 'PowerBi'}"
      ]
     },
     "execution_count": 83,
     "metadata": {},
     "output_type": "execute_result"
    }
   ],
   "source": [
    "retail_inventory"
   ]
  },
  {
   "cell_type": "code",
   "execution_count": 84,
   "id": "24b3d087-0bb7-4f99-82bb-66fb548e7522",
   "metadata": {},
   "outputs": [
    {
     "data": {
      "text/plain": [
       "{'Edukron': {'Data Engineering', 'Data Science'},\n",
       " 'skillanic': 'RestApi',\n",
       " 'besant': 'PowerBi'}"
      ]
     },
     "execution_count": 84,
     "metadata": {},
     "output_type": "execute_result"
    }
   ],
   "source": [
    "{'Edukron': {'Data Science','Data Engineering'}, 'skillanic': 'RestApi', 'besant': 'PowerBi'}\n"
   ]
  },
  {
   "cell_type": "code",
   "execution_count": null,
   "id": "ba421cec-a46b-4410-b954-55d4ab790757",
   "metadata": {},
   "outputs": [],
   "source": [
    "Use .get() with a default return value if key is not found.\n"
   ]
  },
  {
   "cell_type": "code",
   "execution_count": 85,
   "id": "1d327c05-05d7-4ec4-ac2b-4db6d65f060e",
   "metadata": {},
   "outputs": [
    {
     "data": {
      "text/plain": [
       "'Apple'"
      ]
     },
     "execution_count": 85,
     "metadata": {},
     "output_type": "execute_result"
    }
   ],
   "source": [
    "retail_inventory.setdefault('Refrigerator','Apple')"
   ]
  },
  {
   "cell_type": "code",
   "execution_count": 89,
   "id": "5f8d98e7-79d3-4673-a968-ea3225363819",
   "metadata": {},
   "outputs": [
    {
     "data": {
      "text/plain": [
       "'Apple'"
      ]
     },
     "execution_count": 89,
     "metadata": {},
     "output_type": "execute_result"
    }
   ],
   "source": [
    "retail_inventory.get('Refrigerator')"
   ]
  },
  {
   "cell_type": "code",
   "execution_count": 87,
   "id": "0b780982-4d03-41a5-af28-dda04671eaa5",
   "metadata": {},
   "outputs": [
    {
     "ename": "NameError",
     "evalue": "name 'apple' is not defined",
     "output_type": "error",
     "traceback": [
      "\u001b[31m---------------------------------------------------------------------------\u001b[39m",
      "\u001b[31mNameError\u001b[39m                                 Traceback (most recent call last)",
      "\u001b[36mCell\u001b[39m\u001b[36m \u001b[39m\u001b[32mIn[87]\u001b[39m\u001b[32m, line 1\u001b[39m\n\u001b[32m----> \u001b[39m\u001b[32m1\u001b[39m \u001b[43mapple\u001b[49m\n",
      "\u001b[31mNameError\u001b[39m: name 'apple' is not defined"
     ]
    }
   ],
   "source": [
    "apple"
   ]
  },
  {
   "cell_type": "code",
   "execution_count": 88,
   "id": "b1b259b9-62f1-4008-b29b-3c56640ec702",
   "metadata": {},
   "outputs": [
    {
     "data": {
      "text/plain": [
       "'Apple'"
      ]
     },
     "execution_count": 88,
     "metadata": {},
     "output_type": "execute_result"
    }
   ],
   "source": [
    "\"Apple\""
   ]
  },
  {
   "cell_type": "code",
   "execution_count": null,
   "id": "b7dec211-57df-48e8-ae56-222c4e309936",
   "metadata": {},
   "outputs": [],
   "source": [
    "What’s the difference between .pop() and .popitem()? Try both.\n"
   ]
  },
  {
   "cell_type": "code",
   "execution_count": 90,
   "id": "fae635bf-2e10-4135-906b-7ebe93a68c06",
   "metadata": {},
   "outputs": [
    {
     "data": {
      "text/plain": [
       "{'T-Shirt': [499, 100, 'H&M'],\n",
       " 'Jeans': [1199, 60, \"Levi's\"],\n",
       " 'Jacket': [2499, 25, 'Puma']}"
      ]
     },
     "execution_count": 90,
     "metadata": {},
     "output_type": "execute_result"
    }
   ],
   "source": [
    "retail_inventory.pop( \"Apparel\")"
   ]
  },
  {
   "cell_type": "code",
   "execution_count": 93,
   "id": "a96ab3db-b64d-4bb6-b106-cd5abf2f30a0",
   "metadata": {},
   "outputs": [
    {
     "data": {
      "text/plain": [
       "('skillanic', 'RestApi')"
      ]
     },
     "execution_count": 93,
     "metadata": {},
     "output_type": "execute_result"
    }
   ],
   "source": [
    "retail_inventory.popitem()"
   ]
  },
  {
   "cell_type": "code",
   "execution_count": null,
   "id": "d0391ab9-2a82-4b61-8193-98499f05a9b8",
   "metadata": {},
   "outputs": [],
   "source": [
    "Use del to remove a key from a dictionary.\n"
   ]
  },
  {
   "cell_type": "code",
   "execution_count": 94,
   "id": "d9a8b9c6-4393-4a08-b1a3-26cc59f9f801",
   "metadata": {},
   "outputs": [
    {
     "ename": "SyntaxError",
     "evalue": "cannot delete literal (2471890341.py, line 1)",
     "output_type": "error",
     "traceback": [
      "  \u001b[36mCell\u001b[39m\u001b[36m \u001b[39m\u001b[32mIn[94]\u001b[39m\u001b[32m, line 1\u001b[39m\n\u001b[31m    \u001b[39m\u001b[31mdel('retail_inventory')\u001b[39m\n        ^\n\u001b[31mSyntaxError\u001b[39m\u001b[31m:\u001b[39m cannot delete literal\n"
     ]
    }
   ],
   "source": [
    "del('retail_inventory')"
   ]
  },
  {
   "cell_type": "code",
   "execution_count": 96,
   "id": "ba1eaf78-43cc-4d7b-9cc9-c89dfe6f0d14",
   "metadata": {},
   "outputs": [
    {
     "ename": "SyntaxError",
     "evalue": "invalid syntax (1829699231.py, line 1)",
     "output_type": "error",
     "traceback": [
      "  \u001b[36mCell\u001b[39m\u001b[36m \u001b[39m\u001b[32mIn[96]\u001b[39m\u001b[32m, line 1\u001b[39m\n\u001b[31m    \u001b[39m\u001b[31m('retail_inventory').del\u001b[39m\n                         ^\n\u001b[31mSyntaxError\u001b[39m\u001b[31m:\u001b[39m invalid syntax\n"
     ]
    }
   ],
   "source": [
    "('retail_inventory').del"
   ]
  },
  {
   "cell_type": "code",
   "execution_count": 97,
   "id": "a9a763f5-44fc-4f87-926b-12cf1f21446a",
   "metadata": {},
   "outputs": [
    {
     "ename": "SyntaxError",
     "evalue": "invalid syntax (4095144467.py, line 1)",
     "output_type": "error",
     "traceback": [
      "  \u001b[36mCell\u001b[39m\u001b[36m \u001b[39m\u001b[32mIn[97]\u001b[39m\u001b[32m, line 1\u001b[39m\n\u001b[31m    \u001b[39m\u001b[31mdel.('retail_inventory')\u001b[39m\n       ^\n\u001b[31mSyntaxError\u001b[39m\u001b[31m:\u001b[39m invalid syntax\n"
     ]
    }
   ],
   "source": [
    "del.('retail_inventory')"
   ]
  },
  {
   "cell_type": "code",
   "execution_count": 98,
   "id": "184793be-622b-4f17-8a3b-190d96f6bbb3",
   "metadata": {},
   "outputs": [
    {
     "ename": "SyntaxError",
     "evalue": "cannot delete literal (3265122218.py, line 1)",
     "output_type": "error",
     "traceback": [
      "  \u001b[36mCell\u001b[39m\u001b[36m \u001b[39m\u001b[32mIn[98]\u001b[39m\u001b[32m, line 1\u001b[39m\n\u001b[31m    \u001b[39m\u001b[31mdel 'retail_inventory'\u001b[39m\n        ^\n\u001b[31mSyntaxError\u001b[39m\u001b[31m:\u001b[39m cannot delete literal\n"
     ]
    }
   ],
   "source": [
    "del 'retail_inventory'"
   ]
  },
  {
   "cell_type": "code",
   "execution_count": 102,
   "id": "c275fd51-df88-4abe-950e-550e33314987",
   "metadata": {},
   "outputs": [
    {
     "ename": "SyntaxError",
     "evalue": "invalid syntax (2733450189.py, line 1)",
     "output_type": "error",
     "traceback": [
      "  \u001b[36mCell\u001b[39m\u001b[36m \u001b[39m\u001b[32mIn[102]\u001b[39m\u001b[32m, line 1\u001b[39m\n\u001b[31m    \u001b[39m\u001b[31mdel.'retail_inventory':\u001b[39m\n       ^\n\u001b[31mSyntaxError\u001b[39m\u001b[31m:\u001b[39m invalid syntax\n"
     ]
    }
   ],
   "source": [
    "del.'retail_inventory'"
   ]
  },
  {
   "cell_type": "code",
   "execution_count": 108,
   "id": "e55386b4-aec5-41ab-8407-6b1a0d25b04a",
   "metadata": {},
   "outputs": [
    {
     "ename": "AttributeError",
     "evalue": "'dict' object has no attribute 'len'",
     "output_type": "error",
     "traceback": [
      "\u001b[31m---------------------------------------------------------------------------\u001b[39m",
      "\u001b[31mAttributeError\u001b[39m                            Traceback (most recent call last)",
      "\u001b[36mCell\u001b[39m\u001b[36m \u001b[39m\u001b[32mIn[108]\u001b[39m\u001b[32m, line 1\u001b[39m\n\u001b[32m----> \u001b[39m\u001b[32m1\u001b[39m \u001b[43mretail_inventory\u001b[49m\u001b[43m.\u001b[49m\u001b[43mlen\u001b[49m(\u001b[33m'\u001b[39m\u001b[33mJeans\u001b[39m\u001b[33m'\u001b[39m)\n",
      "\u001b[31mAttributeError\u001b[39m: 'dict' object has no attribute 'len'"
     ]
    }
   ],
   "source": [
    "retail_inventory.len('Jeans')"
   ]
  },
  {
   "cell_type": "code",
   "execution_count": 109,
   "id": "0d8a3b7e-227b-4e62-a783-d60768534bf0",
   "metadata": {},
   "outputs": [],
   "source": [
    "retail_inventory = {\n",
    "    \"Electronics\": {\n",
    "        \"Laptop\": [55000, 30, \"Dell\"],\n",
    "        \"Mobile\": [25000, 50, \"Samsung\"],\n",
    "        \"Tablet\": [18000, 20, \"Lenovo\"],\n",
    "        \"Smart Watch\": [7999, 40, \"Noise\"]\n",
    "    },\n",
    "    \"Apparel\": {\n",
    "        \"T-Shirt\": [499, 100, \"H&M\"],\n",
    "        \"Jeans\": [1199, 60, \"Levi's\"],\n",
    "        \"Jacket\": [2499, 25, \"Puma\"]\n",
    "    },\n",
    "    \"Home Appliances\": {\n",
    "        \"Microwave\": [8500, 15, \"LG\"],\n",
    "        \"Vacuum Cleaner\": [7000, 10, \"Philips\"],\n",
    "        \"Refrigerator\": [30000, 8, \"Samsung\"]\n",
    "    }\n",
    "}"
   ]
  },
  {
   "cell_type": "code",
   "execution_count": 110,
   "id": "206a073e-bef9-4e4e-b321-91668a43291d",
   "metadata": {},
   "outputs": [
    {
     "data": {
      "text/plain": [
       "{'Electronics': {'Laptop': [55000, 30, 'Dell'],\n",
       "  'Mobile': [25000, 50, 'Samsung'],\n",
       "  'Tablet': [18000, 20, 'Lenovo'],\n",
       "  'Smart Watch': [7999, 40, 'Noise']},\n",
       " 'Apparel': {'T-Shirt': [499, 100, 'H&M'],\n",
       "  'Jeans': [1199, 60, \"Levi's\"],\n",
       "  'Jacket': [2499, 25, 'Puma']},\n",
       " 'Home Appliances': {'Microwave': [8500, 15, 'LG'],\n",
       "  'Vacuum Cleaner': [7000, 10, 'Philips'],\n",
       "  'Refrigerator': [30000, 8, 'Samsung']}}"
      ]
     },
     "execution_count": 110,
     "metadata": {},
     "output_type": "execute_result"
    }
   ],
   "source": [
    "retail_inventory "
   ]
  },
  {
   "cell_type": "code",
   "execution_count": null,
   "id": "be3bb2ec-e751-453c-8d56-7ef0436c660b",
   "metadata": {},
   "outputs": [],
   "source": [
    "Get the number of keys in a dictionary. (Use len())"
   ]
  },
  {
   "cell_type": "code",
   "execution_count": 111,
   "id": "6e55b2f4-698b-45e1-8a50-685fc14df9ae",
   "metadata": {},
   "outputs": [
    {
     "ename": "SyntaxError",
     "evalue": "invalid syntax (3168077433.py, line 1)",
     "output_type": "error",
     "traceback": [
      "  \u001b[36mCell\u001b[39m\u001b[36m \u001b[39m\u001b[32mIn[111]\u001b[39m\u001b[32m, line 1\u001b[39m\n\u001b[31m    \u001b[39m\u001b[31mretail_inventory.(\"Refrigerator\" len())\u001b[39m\n                     ^\n\u001b[31mSyntaxError\u001b[39m\u001b[31m:\u001b[39m invalid syntax\n"
     ]
    }
   ],
   "source": [
    "retail_inventory.(\"Refrigerator\" len())"
   ]
  },
  {
   "cell_type": "code",
   "execution_count": 112,
   "id": "fb455ddb-478c-4f8f-a26c-ebc0809ecf2c",
   "metadata": {},
   "outputs": [
    {
     "data": {
      "text/plain": [
       "3"
      ]
     },
     "execution_count": 112,
     "metadata": {},
     "output_type": "execute_result"
    }
   ],
   "source": [
    "len(retail_inventory)"
   ]
  },
  {
   "cell_type": "code",
   "execution_count": null,
   "id": "2294b753-c43a-4132-bb14-85757f37bb6c",
   "metadata": {},
   "outputs": [],
   "source": [
    "Convert a list of tuples into a dictionary. (Use dict() constructor)"
   ]
  },
  {
   "cell_type": "code",
   "execution_count": null,
   "id": "45dd4e7f-eda3-4688-9b46-edc92205c245",
   "metadata": {},
   "outputs": [],
   "source": [
    " \"Electronics\": {\n",
    "        \"Laptop\": [55000, 30, \"Dell\"],\n",
    "        \"Mobile\": [25000, 50, \"Samsung\"],\n",
    "        \"Tablet\": [18000, 20, \"Lenovo\"],\n",
    "        \"Smart Watch\": [7999, 40, \"Noise\"]\n",
    "    },"
   ]
  },
  {
   "cell_type": "code",
   "execution_count": 121,
   "id": "922e79b1-0c76-4a57-a998-4a16cecc27cc",
   "metadata": {},
   "outputs": [],
   "source": [
    "x=((\"a\",2),(\"b\",3),(\"c\",4),(\"d\",5))"
   ]
  },
  {
   "cell_type": "code",
   "execution_count": 122,
   "id": "9d13521d-bb06-45d0-a3ff-adac975b2d34",
   "metadata": {},
   "outputs": [],
   "source": [
    "y=dict(x)"
   ]
  },
  {
   "cell_type": "code",
   "execution_count": 123,
   "id": "430acd46-ba2c-400c-9892-a4a61654ec01",
   "metadata": {},
   "outputs": [
    {
     "data": {
      "text/plain": [
       "{'a': 2, 'b': 3, 'c': 4, 'd': 5}"
      ]
     },
     "execution_count": 123,
     "metadata": {},
     "output_type": "execute_result"
    }
   ],
   "source": [
    "y"
   ]
  },
  {
   "cell_type": "code",
   "execution_count": 124,
   "id": "5bec694f-e891-4a84-a860-bbf479be0cee",
   "metadata": {},
   "outputs": [],
   "source": [
    "y=((\"a\",6),(\"b\",7),(\"c\",4),(\"d\",5))"
   ]
  },
  {
   "cell_type": "code",
   "execution_count": 125,
   "id": "4209d53b-3cc4-4553-ac13-db4c723ecd1e",
   "metadata": {},
   "outputs": [
    {
     "data": {
      "text/plain": [
       "(('a', 6), ('b', 7), ('c', 4), ('d', 5))"
      ]
     },
     "execution_count": 125,
     "metadata": {},
     "output_type": "execute_result"
    }
   ],
   "source": [
    "y"
   ]
  },
  {
   "cell_type": "code",
   "execution_count": null,
   "id": "e56937dd-8577-4a77-a1ae-3145bda1d8b4",
   "metadata": {},
   "outputs": [],
   "source": [
    "Create a dictionary from two lists: one of keys and one of values. (Use zip() and dict())"
   ]
  },
  {
   "cell_type": "code",
   "execution_count": 127,
   "id": "c45a0baa-76b0-4004-9ff8-1a983acd8ee4",
   "metadata": {},
   "outputs": [],
   "source": [
    "A=((\"x\",\"y\",\"Z\"))"
   ]
  },
  {
   "cell_type": "code",
   "execution_count": 128,
   "id": "6fdf8940-45a2-4331-890c-b4958c2ea3d7",
   "metadata": {},
   "outputs": [
    {
     "data": {
      "text/plain": [
       "('x', 'y', 'Z')"
      ]
     },
     "execution_count": 128,
     "metadata": {},
     "output_type": "execute_result"
    }
   ],
   "source": [
    "A"
   ]
  },
  {
   "cell_type": "code",
   "execution_count": 129,
   "id": "00c60314-7e55-487a-8508-c5bd1b65a0a2",
   "metadata": {},
   "outputs": [],
   "source": [
    "B=((1,2,3))"
   ]
  },
  {
   "cell_type": "code",
   "execution_count": 130,
   "id": "a0743eb8-619a-426e-b3c7-2f161c06fb64",
   "metadata": {},
   "outputs": [
    {
     "data": {
      "text/plain": [
       "(1, 2, 3)"
      ]
     },
     "execution_count": 130,
     "metadata": {},
     "output_type": "execute_result"
    }
   ],
   "source": [
    "B"
   ]
  },
  {
   "cell_type": "code",
   "execution_count": null,
   "id": "8f4ed746-7eed-435c-95bf-5c3ced428aac",
   "metadata": {},
   "outputs": [],
   "source": []
  }
 ],
 "metadata": {
  "kernelspec": {
   "display_name": "Python 3 (ipykernel)",
   "language": "python",
   "name": "python3"
  },
  "language_info": {
   "codemirror_mode": {
    "name": "ipython",
    "version": 3
   },
   "file_extension": ".py",
   "mimetype": "text/x-python",
   "name": "python",
   "nbconvert_exporter": "python",
   "pygments_lexer": "ipython3",
   "version": "3.13.2"
  }
 },
 "nbformat": 4,
 "nbformat_minor": 5
}
